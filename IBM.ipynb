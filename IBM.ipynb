{
 "cells": [
  {
   "cell_type": "markdown",
   "id": "7b62ca0c",
   "metadata": {},
   "source": [
    "notebook"
   ]
  },
  {
   "cell_type": "markdown",
   "id": "87add199",
   "metadata": {},
   "source": [
    "This Cell for introduction of the project"
   ]
  },
  {
   "cell_type": "markdown",
   "id": "23df8241",
   "metadata": {},
   "source": [
    "\n",
    "<ol>\n",
    "  <p>Data Scienece Languages:.</p>\n",
    "  <li>Python.</li>\n",
    "  <p>R .</p>\n",
    "  <li>Julia.</li>\n",
    "</ol>"
   ]
  },
  {
   "cell_type": "markdown",
   "id": "91b60616",
   "metadata": {},
   "source": [
    "Data Scienece Libraries:\n",
    "    Numpy \n",
    "    Pandas\n",
    "    Matplotlip\n",
    "    Sklearn"
   ]
  },
  {
   "cell_type": "markdown",
   "id": "2d2733fa",
   "metadata": {},
   "source": [
    "\n",
    "| SN | Data Sienece Tools| Desc |\n",
    "| --- | --- | --- |\n",
    "| 1 | Data Mangement | Colleting and presention|\n",
    "| 2 | Data Integration and transformation | Extract and Transform|\n",
    "| 3 | Data Visualization | Visulization|\n",
    "| 4 | Model Buliding | ML|\n",
    "| 5 | Model Deploument | ML|\n",
    "| 6 | Model Montoring | Testing|"
   ]
  },
  {
   "cell_type": "markdown",
   "id": "54f32eac",
   "metadata": {},
   "source": [
    "This cell to introduce adding and multiply numbers"
   ]
  },
  {
   "cell_type": "code",
   "execution_count": 2,
   "id": "3507bf4d",
   "metadata": {},
   "outputs": [
    {
     "name": "stdout",
     "output_type": "stream",
     "text": [
      "11\n",
      "30\n"
     ]
    }
   ],
   "source": [
    "a=5\n",
    "b=6\n",
    "c=a+b\n",
    "d=a*b\n",
    "print(c)\n",
    "print(d)"
   ]
  },
  {
   "cell_type": "code",
   "execution_count": 3,
   "id": "2c252460",
   "metadata": {},
   "outputs": [
    {
     "name": "stdout",
     "output_type": "stream",
     "text": [
      "Enter time in minutes25\n",
      "Hours= 0\n",
      "Minutes= 25\n"
     ]
    }
   ],
   "source": [
    "min=int(input(\"Enter time in minutes\"))\n",
    "h=min//60\n",
    "m=min%60\n",
    "print(\"Hours=\",h)\n",
    "print(\"Minutes=\",m)"
   ]
  },
  {
   "cell_type": "markdown",
   "id": "f83d86e0",
   "metadata": {},
   "source": [
    "\n",
    "<ol>\n",
    "  <p>List Of Objectives</p>\n",
    "  <li>Learning Python.</li>\n",
    "  <li>LearningJulia.</li>\n",
    "</ol>"
   ]
  },
  {
   "cell_type": "markdown",
   "id": "c040a3ce",
   "metadata": {},
   "source": [
    "Auther Name: aly Rabia"
   ]
  },
  {
   "cell_type": "code",
   "execution_count": null,
   "id": "67efac4e",
   "metadata": {},
   "outputs": [],
   "source": []
  }
 ],
 "metadata": {
  "kernelspec": {
   "display_name": "Python 3 (ipykernel)",
   "language": "python",
   "name": "python3"
  },
  "language_info": {
   "codemirror_mode": {
    "name": "ipython",
    "version": 3
   },
   "file_extension": ".py",
   "mimetype": "text/x-python",
   "name": "python",
   "nbconvert_exporter": "python",
   "pygments_lexer": "ipython3",
   "version": "3.9.13"
  }
 },
 "nbformat": 4,
 "nbformat_minor": 5
}
